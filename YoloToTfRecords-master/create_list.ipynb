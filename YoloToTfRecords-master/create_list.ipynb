{
 "cells": [
  {
   "cell_type": "code",
   "execution_count": 4,
   "metadata": {},
   "outputs": [
    {
     "name": "stdout",
     "output_type": "stream",
     "text": [
      "total number of image files with txt file related: 1300\n",
      "File list saved to G:\\My Drive\\Python_data_classes\\projects_after_GA\\obj_det_automl\\YoloToTfRecords-master\\Data\\data\n"
     ]
    }
   ],
   "source": [
    "# create list of the files that have .txt files as well\n",
    "import os\n",
    "\n",
    "# Specify the folder path\n",
    "folder_path = 'G:\\My Drive\\Python_data_classes\\projects_after_GA\\obj_det_automl\\YoloToTfRecords-master\\Data\\data'\n",
    "\n",
    "# Iterate through the files in the folder\n",
    "image_files = [os.path.join(folder_path, f) for f in os.listdir(folder_path) if (f.endswith(\".jpeg\") and f.replace(\".jpeg\", \".txt\") in os.listdir(folder_path))]\n",
    "print(f'total number of image files with txt file related: {len(image_files)}')\n",
    "\n",
    "# Create a new file to store the list of files\n",
    "\n",
    "with open(os.path.join(folder_path, 'file_list.txt'), 'w') as f:\n",
    "    # Write each file name to the output file, separated by a newline\n",
    "    \n",
    "    f.write('\\n'.join(image_files))\n",
    "\n",
    "print(f\"File list saved to {folder_path}\")"
   ]
  },
  {
   "cell_type": "code",
   "execution_count": null,
   "metadata": {},
   "outputs": [],
   "source": []
  }
 ],
 "metadata": {
  "kernelspec": {
   "display_name": "base",
   "language": "python",
   "name": "python3"
  },
  "language_info": {
   "codemirror_mode": {
    "name": "ipython",
    "version": 3
   },
   "file_extension": ".py",
   "mimetype": "text/x-python",
   "name": "python",
   "nbconvert_exporter": "python",
   "pygments_lexer": "ipython3",
   "version": "3.11.4"
  }
 },
 "nbformat": 4,
 "nbformat_minor": 2
}
